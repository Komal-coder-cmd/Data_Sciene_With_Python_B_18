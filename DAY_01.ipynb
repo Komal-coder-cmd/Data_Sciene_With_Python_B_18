{
 "cells": [
  {
   "cell_type": "code",
   "execution_count": 3,
   "id": "e2109aa2",
   "metadata": {},
   "outputs": [],
   "source": [
    "a=20\n",
    "#a=variable\n",
    "#=assignment operator\n",
    "#20=value"
   ]
  },
  {
   "cell_type": "code",
   "execution_count": 5,
   "id": "16037eaf",
   "metadata": {},
   "outputs": [
    {
     "data": {
      "text/plain": [
       "20"
      ]
     },
     "execution_count": 5,
     "metadata": {},
     "output_type": "execute_result"
    }
   ],
   "source": [
    "a"
   ]
  },
  {
   "cell_type": "code",
   "execution_count": 7,
   "id": "059e8ce2",
   "metadata": {},
   "outputs": [
    {
     "name": "stdout",
     "output_type": "stream",
     "text": [
      "20\n"
     ]
    }
   ],
   "source": [
    "print(a)"
   ]
  },
  {
   "cell_type": "code",
   "execution_count": 8,
   "id": "8bc7d51a",
   "metadata": {},
   "outputs": [],
   "source": [
    "a=\"komal\"\n",
    "a='''komal'''\n",
    "a='komal'"
   ]
  },
  {
   "cell_type": "code",
   "execution_count": 10,
   "id": "c9e35212",
   "metadata": {},
   "outputs": [
    {
     "data": {
      "text/plain": [
       "'komal'"
      ]
     },
     "execution_count": 10,
     "metadata": {},
     "output_type": "execute_result"
    }
   ],
   "source": [
    "a"
   ]
  },
  {
   "cell_type": "code",
   "execution_count": 11,
   "id": "9b5f08ee",
   "metadata": {},
   "outputs": [],
   "source": [
    "a=\"komal\"\n",
    "b=\"dhande\"\n",
    "c=a+b"
   ]
  },
  {
   "cell_type": "code",
   "execution_count": 13,
   "id": "89343ffc",
   "metadata": {},
   "outputs": [
    {
     "data": {
      "text/plain": [
       "'komaldhande'"
      ]
     },
     "execution_count": 13,
     "metadata": {},
     "output_type": "execute_result"
    }
   ],
   "source": [
    "c"
   ]
  },
  {
   "cell_type": "code",
   "execution_count": 15,
   "id": "e2b75183",
   "metadata": {},
   "outputs": [
    {
     "name": "stdout",
     "output_type": "stream",
     "text": [
      "komal\n",
      "dhande\n"
     ]
    }
   ],
   "source": [
    "print(\"komal\\ndhande\")"
   ]
  },
  {
   "cell_type": "code",
   "execution_count": 17,
   "id": "06f1c06a",
   "metadata": {},
   "outputs": [
    {
     "name": "stdout",
     "output_type": "stream",
     "text": [
      "komal\tdhande\n"
     ]
    }
   ],
   "source": [
    "print(\"komal\\tdhande\")"
   ]
  },
  {
   "cell_type": "code",
   "execution_count": 21,
   "id": "028f0121",
   "metadata": {},
   "outputs": [],
   "source": [
    "a=20"
   ]
  },
  {
   "cell_type": "code",
   "execution_count": 22,
   "id": "003e6b18",
   "metadata": {},
   "outputs": [
    {
     "data": {
      "text/plain": [
       "20"
      ]
     },
     "execution_count": 22,
     "metadata": {},
     "output_type": "execute_result"
    }
   ],
   "source": [
    "a"
   ]
  },
  {
   "cell_type": "code",
   "execution_count": 23,
   "id": "19527391",
   "metadata": {},
   "outputs": [
    {
     "data": {
      "text/plain": [
       "int"
      ]
     },
     "execution_count": 23,
     "metadata": {},
     "output_type": "execute_result"
    }
   ],
   "source": [
    "type(a)"
   ]
  },
  {
   "cell_type": "code",
   "execution_count": 24,
   "id": "19f509c5",
   "metadata": {},
   "outputs": [
    {
     "data": {
      "text/plain": [
       "str"
      ]
     },
     "execution_count": 24,
     "metadata": {},
     "output_type": "execute_result"
    }
   ],
   "source": [
    "a=\"komal\"\n",
    "type(a)"
   ]
  },
  {
   "cell_type": "code",
   "execution_count": null,
   "id": "dca52194",
   "metadata": {},
   "outputs": [],
   "source": []
  }
 ],
 "metadata": {
  "kernelspec": {
   "display_name": "Python 3 (ipykernel)",
   "language": "python",
   "name": "python3"
  },
  "language_info": {
   "codemirror_mode": {
    "name": "ipython",
    "version": 3
   },
   "file_extension": ".py",
   "mimetype": "text/x-python",
   "name": "python",
   "nbconvert_exporter": "python",
   "pygments_lexer": "ipython3",
   "version": "3.9.7"
  }
 },
 "nbformat": 4,
 "nbformat_minor": 5
}
