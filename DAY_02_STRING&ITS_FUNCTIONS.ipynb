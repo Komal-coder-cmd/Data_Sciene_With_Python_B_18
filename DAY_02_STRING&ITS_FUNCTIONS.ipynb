{
 "cells": [
  {
   "cell_type": "code",
   "execution_count": 1,
   "id": "6e177100",
   "metadata": {},
   "outputs": [
    {
     "name": "stdout",
     "output_type": "stream",
     "text": [
      "Komal\n"
     ]
    }
   ],
   "source": [
    "a='Komal'\n",
    "print(a)"
   ]
  },
  {
   "cell_type": "code",
   "execution_count": 2,
   "id": "bc92f9f4",
   "metadata": {},
   "outputs": [
    {
     "data": {
      "text/plain": [
       "'K'"
      ]
     },
     "execution_count": 2,
     "metadata": {},
     "output_type": "execute_result"
    }
   ],
   "source": [
    "#indexing:-\n",
    "a[0]"
   ]
  },
  {
   "cell_type": "code",
   "execution_count": 3,
   "id": "36b0bde6",
   "metadata": {},
   "outputs": [
    {
     "data": {
      "text/plain": [
       "'m'"
      ]
     },
     "execution_count": 3,
     "metadata": {},
     "output_type": "execute_result"
    }
   ],
   "source": [
    "a[2]"
   ]
  },
  {
   "cell_type": "code",
   "execution_count": 4,
   "id": "aca990a5",
   "metadata": {},
   "outputs": [
    {
     "data": {
      "text/plain": [
       "'l'"
      ]
     },
     "execution_count": 4,
     "metadata": {},
     "output_type": "execute_result"
    }
   ],
   "source": [
    "a[-1]"
   ]
  },
  {
   "cell_type": "code",
   "execution_count": 6,
   "id": "1dc4863b",
   "metadata": {},
   "outputs": [
    {
     "data": {
      "text/plain": [
       "'Koma'"
      ]
     },
     "execution_count": 6,
     "metadata": {},
     "output_type": "execute_result"
    }
   ],
   "source": [
    "#slicing:- last indexed character excluded\n",
    "a[0:4]"
   ]
  },
  {
   "cell_type": "code",
   "execution_count": 7,
   "id": "e1e791f0",
   "metadata": {},
   "outputs": [
    {
     "data": {
      "text/plain": [
       "'Ko'"
      ]
     },
     "execution_count": 7,
     "metadata": {},
     "output_type": "execute_result"
    }
   ],
   "source": [
    "a[:2]"
   ]
  },
  {
   "cell_type": "code",
   "execution_count": 8,
   "id": "ee37dc4a",
   "metadata": {},
   "outputs": [
    {
     "data": {
      "text/plain": [
       "'mal'"
      ]
     },
     "execution_count": 8,
     "metadata": {},
     "output_type": "execute_result"
    }
   ],
   "source": [
    "a[2:]"
   ]
  },
  {
   "cell_type": "code",
   "execution_count": 13,
   "id": "33a17ad5",
   "metadata": {},
   "outputs": [
    {
     "data": {
      "text/plain": [
       "'KOMAL'"
      ]
     },
     "execution_count": 13,
     "metadata": {},
     "output_type": "execute_result"
    }
   ],
   "source": [
    "#string function:-\n",
    "#upper():-return whole string in uppercase\n",
    "a.upper()"
   ]
  },
  {
   "cell_type": "code",
   "execution_count": 10,
   "id": "d52645b5",
   "metadata": {},
   "outputs": [
    {
     "data": {
      "text/plain": [
       "'komal'"
      ]
     },
     "execution_count": 10,
     "metadata": {},
     "output_type": "execute_result"
    }
   ],
   "source": [
    "#lower():-return whole string in lowercase\n",
    "a.lower()"
   ]
  },
  {
   "cell_type": "code",
   "execution_count": 11,
   "id": "e87f09a3",
   "metadata": {},
   "outputs": [
    {
     "data": {
      "text/plain": [
       "'Kxmal'"
      ]
     },
     "execution_count": 11,
     "metadata": {},
     "output_type": "execute_result"
    }
   ],
   "source": [
    "#replace():-replace existing character by new character\n",
    "a.replace('o','x')"
   ]
  },
  {
   "cell_type": "code",
   "execution_count": 14,
   "id": "a8b4fc62",
   "metadata": {},
   "outputs": [
    {
     "data": {
      "text/plain": [
       "1"
      ]
     },
     "execution_count": 14,
     "metadata": {},
     "output_type": "execute_result"
    }
   ],
   "source": [
    "#count():-return no of character\n",
    "a.count(\"o\")"
   ]
  },
  {
   "cell_type": "code",
   "execution_count": 15,
   "id": "e478528d",
   "metadata": {},
   "outputs": [
    {
     "data": {
      "text/plain": [
       "3"
      ]
     },
     "execution_count": 15,
     "metadata": {},
     "output_type": "execute_result"
    }
   ],
   "source": [
    "#find():-return index of a character\n",
    "a.find('a')"
   ]
  },
  {
   "cell_type": "code",
   "execution_count": 16,
   "id": "00c1ce08",
   "metadata": {},
   "outputs": [
    {
     "data": {
      "text/plain": [
       "['K', 'mal']"
      ]
     },
     "execution_count": 16,
     "metadata": {},
     "output_type": "execute_result"
    }
   ],
   "source": [
    "#split():- to separate string by using character 'o' and remove 'o' character\n",
    "a.split('o')"
   ]
  }
 ],
 "metadata": {
  "kernelspec": {
   "display_name": "Python 3 (ipykernel)",
   "language": "python",
   "name": "python3"
  },
  "language_info": {
   "codemirror_mode": {
    "name": "ipython",
    "version": 3
   },
   "file_extension": ".py",
   "mimetype": "text/x-python",
   "name": "python",
   "nbconvert_exporter": "python",
   "pygments_lexer": "ipython3",
   "version": "3.9.7"
  }
 },
 "nbformat": 4,
 "nbformat_minor": 5
}
