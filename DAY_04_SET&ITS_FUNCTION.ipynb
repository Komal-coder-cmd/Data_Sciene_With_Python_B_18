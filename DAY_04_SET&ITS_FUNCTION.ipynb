{
 "cells": [
  {
   "cell_type": "code",
   "execution_count": 4,
   "id": "9e11a467",
   "metadata": {},
   "outputs": [],
   "source": [
    "#Create a set\n",
    "S={10,22.5,\"KOMAL\",True}"
   ]
  },
  {
   "cell_type": "code",
   "execution_count": 5,
   "id": "7c525df8",
   "metadata": {},
   "outputs": [
    {
     "name": "stdout",
     "output_type": "stream",
     "text": [
      "{True, 10, 'KOMAL', 22.5}\n"
     ]
    }
   ],
   "source": [
    "print(S)"
   ]
  },
  {
   "cell_type": "code",
   "execution_count": 6,
   "id": "3b67024d",
   "metadata": {},
   "outputs": [
    {
     "data": {
      "text/plain": [
       "{10, 22.5, 'KOMAL', True}"
      ]
     },
     "execution_count": 6,
     "metadata": {},
     "output_type": "execute_result"
    }
   ],
   "source": [
    "S"
   ]
  },
  {
   "cell_type": "code",
   "execution_count": 8,
   "id": "90cbc33a",
   "metadata": {},
   "outputs": [
    {
     "name": "stdout",
     "output_type": "stream",
     "text": [
      "{True, 10, 'KOMAL', 22.5}\n"
     ]
    }
   ],
   "source": [
    "#Duplicates Not Allowed in Set\n",
    "S={10,22.5,\"KOMAL\",True,10}\n",
    "print(S)"
   ]
  },
  {
   "cell_type": "code",
   "execution_count": 10,
   "id": "f5dce470",
   "metadata": {},
   "outputs": [
    {
     "data": {
      "text/plain": [
       "4"
      ]
     },
     "execution_count": 10,
     "metadata": {},
     "output_type": "execute_result"
    }
   ],
   "source": [
    "S={10,22.5,\"KOMAL\",True,10}\n",
    "len(S)"
   ]
  },
  {
   "cell_type": "code",
   "execution_count": 19,
   "id": "b59515b3",
   "metadata": {},
   "outputs": [
    {
     "ename": "TypeError",
     "evalue": "'set' object does not support item assignment",
     "output_type": "error",
     "traceback": [
      "\u001b[0;31m---------------------------------------------------------------------------\u001b[0m",
      "\u001b[0;31mTypeError\u001b[0m                                 Traceback (most recent call last)",
      "Cell \u001b[0;32mIn[19], line 3\u001b[0m\n\u001b[1;32m      1\u001b[0m \u001b[38;5;66;03m#Unchangeable\u001b[39;00m\n\u001b[1;32m      2\u001b[0m S\u001b[38;5;241m=\u001b[39m{\u001b[38;5;241m10\u001b[39m,\u001b[38;5;241m22.5\u001b[39m,\u001b[38;5;124m\"\u001b[39m\u001b[38;5;124mKOMAL\u001b[39m\u001b[38;5;124m\"\u001b[39m,\u001b[38;5;28;01mTrue\u001b[39;00m,\u001b[38;5;241m10\u001b[39m}\n\u001b[0;32m----> 3\u001b[0m \u001b[43mS\u001b[49m\u001b[43m[\u001b[49m\u001b[38;5;241;43m0\u001b[39;49m\u001b[43m]\u001b[49m\u001b[38;5;241m=\u001b[39m\u001b[38;5;241m20\u001b[39m\n\u001b[1;32m      4\u001b[0m \u001b[38;5;28mprint\u001b[39m(S)\n",
      "\u001b[0;31mTypeError\u001b[0m: 'set' object does not support item assignment"
     ]
    }
   ],
   "source": [
    "#Unchangeable\n",
    "S={10,22.5,\"KOMAL\",True,10}\n",
    "S[0]=20\n",
    "print(S)"
   ]
  },
  {
   "cell_type": "code",
   "execution_count": 20,
   "id": "4c372c8c",
   "metadata": {},
   "outputs": [
    {
     "name": "stdout",
     "output_type": "stream",
     "text": [
      "{True, 10, 'KOMAL', 22.5, 'poonam'}\n"
     ]
    }
   ],
   "source": [
    "S={10,22.5,\"KOMAL\",True,10}\n",
    "S.add(\"poonam\")\n",
    "print(S)"
   ]
  },
  {
   "cell_type": "code",
   "execution_count": 18,
   "id": "13960ff7",
   "metadata": {},
   "outputs": [
    {
     "name": "stdout",
     "output_type": "stream",
     "text": [
      "{True, 10, 22.5}\n"
     ]
    }
   ],
   "source": [
    "#Removal of element in set\n",
    "S={10,22.5,\"KOMAL\",True,10}\n",
    "S.remove(\"KOMAL\")\n",
    "print(S)"
   ]
  },
  {
   "cell_type": "code",
   "execution_count": 15,
   "id": "b7f2817b",
   "metadata": {},
   "outputs": [
    {
     "name": "stdout",
     "output_type": "stream",
     "text": [
      "{2, 4, 5, 6, 7, 8}\n"
     ]
    }
   ],
   "source": [
    "S={2,4,5}\n",
    "S.update([6,7,8])\n",
    "print(S)"
   ]
  },
  {
   "cell_type": "code",
   "execution_count": 17,
   "id": "6db46a81",
   "metadata": {},
   "outputs": [
    {
     "data": {
      "text/plain": [
       "{1, 2, 3, 5, 6, 7}"
      ]
     },
     "execution_count": 17,
     "metadata": {},
     "output_type": "execute_result"
    }
   ],
   "source": [
    "S1={1,2,3}\n",
    "S2={3,5,6,7}\n",
    "S1.union(S2)"
   ]
  },
  {
   "cell_type": "code",
   "execution_count": 24,
   "id": "c86c87cc",
   "metadata": {},
   "outputs": [
    {
     "data": {
      "text/plain": [
       "{3}"
      ]
     },
     "execution_count": 24,
     "metadata": {},
     "output_type": "execute_result"
    }
   ],
   "source": [
    "S1={1,2,3}\n",
    "S2={3,5,6,7}\n",
    "S1.intersection(S2)"
   ]
  },
  {
   "cell_type": "code",
   "execution_count": null,
   "id": "bda27e6d",
   "metadata": {},
   "outputs": [],
   "source": []
  }
 ],
 "metadata": {
  "kernelspec": {
   "display_name": "Python 3 (ipykernel)",
   "language": "python",
   "name": "python3"
  },
  "language_info": {
   "codemirror_mode": {
    "name": "ipython",
    "version": 3
   },
   "file_extension": ".py",
   "mimetype": "text/x-python",
   "name": "python",
   "nbconvert_exporter": "python",
   "pygments_lexer": "ipython3",
   "version": "3.10.6"
  }
 },
 "nbformat": 4,
 "nbformat_minor": 5
}
