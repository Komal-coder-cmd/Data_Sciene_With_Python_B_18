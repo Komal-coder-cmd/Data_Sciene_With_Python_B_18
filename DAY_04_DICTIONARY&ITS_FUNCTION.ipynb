{
 "cells": [
  {
   "cell_type": "markdown",
   "id": "e849aeca",
   "metadata": {},
   "source": [
    "# DICTIONARY"
   ]
  },
  {
   "cell_type": "markdown",
   "id": "baedab90",
   "metadata": {},
   "source": [
    "Dictionary is a part of data structure"
   ]
  },
  {
   "cell_type": "code",
   "execution_count": 1,
   "id": "727ceb5a",
   "metadata": {},
   "outputs": [
    {
     "name": "stdout",
     "output_type": "stream",
     "text": [
      "{'komal': 10, 'poonam': 20, 'samiksha': 30, 'vaishnavi': 40}\n"
     ]
    }
   ],
   "source": [
    "D={\"komal\":10,\"poonam\":20,\"samiksha\":30,\"vaishnavi\":40}\n",
    "print(D)"
   ]
  },
  {
   "cell_type": "code",
   "execution_count": 2,
   "id": "f2cb0dbc",
   "metadata": {},
   "outputs": [
    {
     "data": {
      "text/plain": [
       "dict"
      ]
     },
     "execution_count": 2,
     "metadata": {},
     "output_type": "execute_result"
    }
   ],
   "source": [
    "type(D)"
   ]
  },
  {
   "cell_type": "code",
   "execution_count": 4,
   "id": "c75ed5e8",
   "metadata": {},
   "outputs": [
    {
     "data": {
      "text/plain": [
       "dict_keys(['komal', 'poonam', 'samiksha', 'vaishnavi'])"
      ]
     },
     "execution_count": 4,
     "metadata": {},
     "output_type": "execute_result"
    }
   ],
   "source": [
    "#Extracting keys from dictionary\n",
    "D={\"komal\":10,\"poonam\":20,\"samiksha\":30,\"vaishnavi\":40}\n",
    "D.keys()"
   ]
  },
  {
   "cell_type": "code",
   "execution_count": 12,
   "id": "8207bf02",
   "metadata": {},
   "outputs": [
    {
     "data": {
      "text/plain": [
       "dict_values([10, 20, 30, 40])"
      ]
     },
     "execution_count": 12,
     "metadata": {},
     "output_type": "execute_result"
    }
   ],
   "source": [
    "#Extracting values from dictionary\n",
    "D={\"komal\":10,\"poonam\":20,\"samiksha\":30,\"vaishnavi\":40}\n",
    "D.values()"
   ]
  },
  {
   "cell_type": "code",
   "execution_count": 14,
   "id": "5fd067fb",
   "metadata": {},
   "outputs": [
    {
     "data": {
      "text/plain": [
       "{'komal': 10, 'poonam': 20, 'samiksha': 30, 'vaishnavi': 40}"
      ]
     },
     "execution_count": 14,
     "metadata": {},
     "output_type": "execute_result"
    }
   ],
   "source": [
    "D"
   ]
  },
  {
   "cell_type": "code",
   "execution_count": 15,
   "id": "72f34202",
   "metadata": {},
   "outputs": [
    {
     "name": "stdout",
     "output_type": "stream",
     "text": [
      "{'komal': 10, 'poonam': 20, 'samiksha': 30, 'vaishnavi': 40, 'suhani': 50}\n"
     ]
    }
   ],
   "source": [
    "#Adding new elements to dictionary\n",
    "D={\"komal\":10,\"poonam\":20,\"samiksha\":30,\"vaishnavi\":40}\n",
    "D[\"suhani\"]=50\n",
    "print(D)"
   ]
  },
  {
   "cell_type": "code",
   "execution_count": 16,
   "id": "c9d696e0",
   "metadata": {},
   "outputs": [
    {
     "name": "stdout",
     "output_type": "stream",
     "text": [
      "{'komal': 60, 'poonam': 20, 'samiksha': 30, 'vaishnavi': 40}\n"
     ]
    }
   ],
   "source": [
    "#Changing an existing element to dictionary\n",
    "D={\"komal\":10,\"poonam\":20,\"samiksha\":30,\"vaishnavi\":40}\n",
    "D[\"komal\"]=60\n",
    "print(D)"
   ]
  },
  {
   "cell_type": "code",
   "execution_count": 21,
   "id": "37d676ef",
   "metadata": {},
   "outputs": [
    {
     "name": "stdout",
     "output_type": "stream",
     "text": [
      "{'komal': 10, 'poonam': 20, 'samiksha': 30, 'vaishnavi': 40}\n"
     ]
    }
   ],
   "source": [
    "#Update one dictionary element with another dictionary\n",
    "D1={\"komal\":10,\"poonam\":20}\n",
    "D2={\"samiksha\":30,\"vaishnavi\":40}\n",
    "D1.update(D2)\n",
    "print(D1)"
   ]
  },
  {
   "cell_type": "code",
   "execution_count": 22,
   "id": "80e836ca",
   "metadata": {},
   "outputs": [
    {
     "name": "stdout",
     "output_type": "stream",
     "text": [
      "{'komal': 10, 'poonam': 20, 'samiksha': 30}\n"
     ]
    }
   ],
   "source": [
    "#Popping element dictionary\n",
    "D={\"komal\":10,\"poonam\":20,\"samiksha\":30,\"vaishnavi\":40}\n",
    "D.pop(\"vaishnavi\")\n",
    "print(D)"
   ]
  }
 ],
 "metadata": {
  "kernelspec": {
   "display_name": "Python 3 (ipykernel)",
   "language": "python",
   "name": "python3"
  },
  "language_info": {
   "codemirror_mode": {
    "name": "ipython",
    "version": 3
   },
   "file_extension": ".py",
   "mimetype": "text/x-python",
   "name": "python",
   "nbconvert_exporter": "python",
   "pygments_lexer": "ipython3",
   "version": "3.10.6"
  }
 },
 "nbformat": 4,
 "nbformat_minor": 5
}
