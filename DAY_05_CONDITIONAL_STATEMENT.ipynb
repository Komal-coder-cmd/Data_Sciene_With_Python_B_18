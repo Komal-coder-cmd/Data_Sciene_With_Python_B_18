{
 "cells": [
  {
   "cell_type": "code",
   "execution_count": 1,
   "id": "82bcc0de",
   "metadata": {},
   "outputs": [
    {
     "name": "stdout",
     "output_type": "stream",
     "text": [
      "Enter a number:77\n",
      "ODD NUMBER\n"
     ]
    }
   ],
   "source": [
    "#IF STATEMENT\n",
    "num=int(input(\"Enter a number:\"))\n",
    "if(num%2==0):\n",
    "    print(\"EVEN NUMBER\")\n",
    "else:\n",
    "    print(\"ODD NUMBER\")"
   ]
  },
  {
   "cell_type": "code",
   "execution_count": 2,
   "id": "2f6fe92c",
   "metadata": {},
   "outputs": [
    {
     "name": "stdout",
     "output_type": "stream",
     "text": [
      "a is greater than b\n"
     ]
    }
   ],
   "source": [
    "a=5\n",
    "b=3\n",
    "if(a>b):\n",
    "    print(\"a is greater than b\")"
   ]
  },
  {
   "cell_type": "code",
   "execution_count": 3,
   "id": "0cc1ea96",
   "metadata": {},
   "outputs": [],
   "source": [
    "a=3\n",
    "b=5\n",
    "if(a>b):\n",
    "    print(\"a is greater than b\")"
   ]
  },
  {
   "cell_type": "code",
   "execution_count": 4,
   "id": "3cca4edc",
   "metadata": {},
   "outputs": [
    {
     "name": "stdout",
     "output_type": "stream",
     "text": [
      "Enter your rollno:45\n",
      "45\n"
     ]
    }
   ],
   "source": [
    "roll_no=int(input(\"Enter your rollno:\"))\n",
    "print(roll_no)"
   ]
  },
  {
   "cell_type": "code",
   "execution_count": 5,
   "id": "d9fdd542",
   "metadata": {},
   "outputs": [
    {
     "name": "stdout",
     "output_type": "stream",
     "text": [
      "enter percentage:67\n",
      "67\n",
      "PLACED\n"
     ]
    }
   ],
   "source": [
    "per=int(input(\"enter percentage:\"))\n",
    "print(per)\n",
    "if(per>60):\n",
    "    print(\"PLACED\")\n",
    "else:\n",
    "    print(\"NOT PLACED\")"
   ]
  },
  {
   "cell_type": "code",
   "execution_count": 6,
   "id": "f5e19115",
   "metadata": {},
   "outputs": [
    {
     "name": "stdout",
     "output_type": "stream",
     "text": [
      "Enter value of a:6\n",
      "Enter value of b:8\n",
      "b is greater than a\n"
     ]
    }
   ],
   "source": [
    "a=int(input(\"Enter value of a:\"))\n",
    "b=int(input(\"Enter value of b:\"))\n",
    "if(a>b):\n",
    "    print(\"a is greater than b\")\n",
    "else:\n",
    "    print(\"b is greater than a\")"
   ]
  },
  {
   "cell_type": "code",
   "execution_count": 7,
   "id": "5f86490f",
   "metadata": {},
   "outputs": [
    {
     "name": "stdout",
     "output_type": "stream",
     "text": [
      "Enter no of units :345\n",
      "345\n",
      "Amount : 1450\n"
     ]
    }
   ],
   "source": [
    "no_of_units=int(input(\"Enter no of units :\"))\n",
    "print(no_of_units)\n",
    "if(no_of_units<=100):\n",
    "    amt=0\n",
    "\n",
    "if(no_of_units>100 and no_of_units<=200):\n",
    "    amt=(no_of_units-100)*5\n",
    "\n",
    "if(no_of_units>200):\n",
    "    amt=(no_of_units-200)*10\n",
    "\n",
    "print(\"Amount :\",amt)"
   ]
  },
  {
   "cell_type": "code",
   "execution_count": 8,
   "id": "f80aa72c",
   "metadata": {},
   "outputs": [
    {
     "name": "stdout",
     "output_type": "stream",
     "text": [
      "Enter your age:20\n",
      "Eligible for voting...\n"
     ]
    }
   ],
   "source": [
    "age=int(input(\"Enter your age:\"))\n",
    "if(age>=18):\n",
    "    print(\"Eligible for voting...\")\n",
    "else:\n",
    "    print(\"Not Eligible for voting...\")"
   ]
  },
  {
   "cell_type": "code",
   "execution_count": null,
   "id": "ed07d4aa",
   "metadata": {},
   "outputs": [],
   "source": []
  }
 ],
 "metadata": {
  "kernelspec": {
   "display_name": "Python 3 (ipykernel)",
   "language": "python",
   "name": "python3"
  },
  "language_info": {
   "codemirror_mode": {
    "name": "ipython",
    "version": 3
   },
   "file_extension": ".py",
   "mimetype": "text/x-python",
   "name": "python",
   "nbconvert_exporter": "python",
   "pygments_lexer": "ipython3",
   "version": "3.9.7"
  }
 },
 "nbformat": 4,
 "nbformat_minor": 5
}
